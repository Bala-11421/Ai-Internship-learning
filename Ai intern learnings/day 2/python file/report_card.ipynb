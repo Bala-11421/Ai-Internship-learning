{
 "cells": [
  {
   "cell_type": "code",
   "execution_count": 6,
   "id": "e018cfff-cbc2-44fe-a072-0497e60ea9d2",
   "metadata": {},
   "outputs": [],
   "source": [
    "import numpy as np\n",
    "import matplotlib.pyplot as plt\n",
    "import pandas as pd"
   ]
  },
  {
   "cell_type": "code",
   "execution_count": 7,
   "id": "f0769559-130e-45fd-a4ae-24d57199e3e3",
   "metadata": {},
   "outputs": [],
   "source": [
    "df = pd.read_csv(\"students_marks.csv\")"
   ]
  },
  {
   "cell_type": "code",
   "execution_count": 8,
   "id": "9d495040-29e8-4491-9818-ababb85d2567",
   "metadata": {},
   "outputs": [
    {
     "data": {
      "text/html": [
       "<div>\n",
       "<style scoped>\n",
       "    .dataframe tbody tr th:only-of-type {\n",
       "        vertical-align: middle;\n",
       "    }\n",
       "\n",
       "    .dataframe tbody tr th {\n",
       "        vertical-align: top;\n",
       "    }\n",
       "\n",
       "    .dataframe thead th {\n",
       "        text-align: right;\n",
       "    }\n",
       "</style>\n",
       "<table border=\"1\" class=\"dataframe\">\n",
       "  <thead>\n",
       "    <tr style=\"text-align: right;\">\n",
       "      <th></th>\n",
       "      <th>Name</th>\n",
       "      <th>Math</th>\n",
       "      <th>Science</th>\n",
       "      <th>English</th>\n",
       "      <th>History</th>\n",
       "      <th>Computer</th>\n",
       "    </tr>\n",
       "  </thead>\n",
       "  <tbody>\n",
       "    <tr>\n",
       "      <th>0</th>\n",
       "      <td>Amit</td>\n",
       "      <td>78</td>\n",
       "      <td>88</td>\n",
       "      <td>90</td>\n",
       "      <td>76</td>\n",
       "      <td>95</td>\n",
       "    </tr>\n",
       "    <tr>\n",
       "      <th>1</th>\n",
       "      <td>Sara</td>\n",
       "      <td>92</td>\n",
       "      <td>81</td>\n",
       "      <td>85</td>\n",
       "      <td>89</td>\n",
       "      <td>91</td>\n",
       "    </tr>\n",
       "    <tr>\n",
       "      <th>2</th>\n",
       "      <td>John</td>\n",
       "      <td>65</td>\n",
       "      <td>72</td>\n",
       "      <td>70</td>\n",
       "      <td>68</td>\n",
       "      <td>60</td>\n",
       "    </tr>\n",
       "  </tbody>\n",
       "</table>\n",
       "</div>"
      ],
      "text/plain": [
       "   Name  Math  Science  English  History  Computer\n",
       "0  Amit    78       88       90       76        95\n",
       "1  Sara    92       81       85       89        91\n",
       "2  John    65       72       70       68        60"
      ]
     },
     "execution_count": 8,
     "metadata": {},
     "output_type": "execute_result"
    }
   ],
   "source": [
    "df"
   ]
  },
  {
   "cell_type": "code",
   "execution_count": 9,
   "id": "096e7919-874a-4186-9873-65100994efea",
   "metadata": {},
   "outputs": [],
   "source": [
    "# Calculate total marks and percentage\n",
    "df['Total'] = df[['Math', 'Science', 'English', 'History', 'Computer']].sum(axis=1)\n",
    "df['Percentage'] = df['Total'] / 5  "
   ]
  },
  {
   "cell_type": "code",
   "execution_count": 10,
   "id": "425b7717-75ed-418e-8bc3-a3906b02ee0d",
   "metadata": {},
   "outputs": [],
   "source": [
    "# Function to determine feedback\n",
    "def get_feedback(percentage):\n",
    "    if percentage > 90:\n",
    "        return \"Excellent\"\n",
    "    elif percentage >= 75:\n",
    "        return \"Good\"\n",
    "    elif percentage >= 50:\n",
    "        return \"Average\"\n",
    "    else:\n",
    "        return \"Needs Improvement\""
   ]
  },
  {
   "cell_type": "code",
   "execution_count": 17,
   "id": "4a895885-322b-4866-882e-806f677e4c5b",
   "metadata": {},
   "outputs": [
    {
     "name": "stdout",
     "output_type": "stream",
     "text": [
      "---- Report Card ----\n",
      "\n",
      "Name: Amit\n",
      "Total: 427 / 500\n",
      "Percentage: 85.4%\n",
      "Feedback: Good\n",
      "\n",
      "Name: Sara\n",
      "Total: 438 / 500\n",
      "Percentage: 87.6%\n",
      "Feedback: Good\n",
      "\n",
      "Name: John\n",
      "Total: 335 / 500\n",
      "Percentage: 67.0%\n",
      "Feedback: Average\n"
     ]
    }
   ],
   "source": [
    "print(\"---- Report Card ----\")\n",
    "for index, row in df.iterrows():\n",
    "    print(\"\\nName: {}\".format(row['Name']))\n",
    "    print(\"Total: {} / 500\".format(int(row['Total'])))\n",
    "    print(\"Percentage: {:.1f}%\".format(row['Percentage']))\n",
    "    print(\"Feedback: {}\".format(get_feedback(row['Percentage'])))"
   ]
  },
  {
   "cell_type": "code",
   "execution_count": null,
   "id": "3b3cae60-ecad-4c83-9022-5ccfab0f3ab2",
   "metadata": {},
   "outputs": [],
   "source": []
  },
  {
   "cell_type": "code",
   "execution_count": null,
   "id": "8b148a1f-8d2a-47b8-a418-4e2bec7cc9d8",
   "metadata": {},
   "outputs": [],
   "source": []
  },
  {
   "cell_type": "code",
   "execution_count": null,
   "id": "d66ca317-254a-45b5-b522-ba7c79d15de1",
   "metadata": {},
   "outputs": [],
   "source": []
  },
  {
   "cell_type": "code",
   "execution_count": null,
   "id": "da8d7e5a-cdf2-44e9-8e33-edb30499e80e",
   "metadata": {},
   "outputs": [],
   "source": []
  }
 ],
 "metadata": {
  "kernelspec": {
   "display_name": "Python 3 (ipykernel)",
   "language": "python",
   "name": "python3"
  },
  "language_info": {
   "codemirror_mode": {
    "name": "ipython",
    "version": 3
   },
   "file_extension": ".py",
   "mimetype": "text/x-python",
   "name": "python",
   "nbconvert_exporter": "python",
   "pygments_lexer": "ipython3",
   "version": "3.10.14"
  }
 },
 "nbformat": 4,
 "nbformat_minor": 5
}

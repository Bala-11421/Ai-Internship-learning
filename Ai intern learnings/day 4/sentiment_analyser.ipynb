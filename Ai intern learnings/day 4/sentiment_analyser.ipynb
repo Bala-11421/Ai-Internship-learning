{
 "cells": [
  {
   "cell_type": "code",
   "execution_count": 1,
   "id": "4920bbd4-228a-456e-a82f-44ff221aa921",
   "metadata": {},
   "outputs": [],
   "source": [
    "import pandas as pd\n",
    "import numpy as np\n",
    "import string\n",
    "import nltk\n",
    "from nltk.corpus import stopwords\n",
    "from sklearn.model_selection import train_test_split\n",
    "from sklearn.feature_extraction.text import TfidfVectorizer\n",
    "from sklearn.linear_model import LogisticRegression\n",
    "from sklearn.metrics import accuracy_score\n",
    "\n",
    "# Ensure stopwords are downloaded\n",
    "nltk.download('stopwords', quiet=True)\n",
    "stop_words = set(stopwords.words('english'))\n",
    "\n"
   ]
  },
  {
   "cell_type": "code",
   "execution_count": 2,
   "id": "3fe22e37-0e47-4e6a-9379-5a117748f608",
   "metadata": {},
   "outputs": [],
   "source": [
    "# 1. Load the dataset\n",
    "df = pd.read_csv(\"imdb_sample.csv\")  # Replace with your actual CSV filename if needed\n",
    "\n",
    "# 2. Clean the text\n",
    "def clean_text(text):\n",
    "    text = text.translate(str.maketrans('', '', string.punctuation))\n",
    "    text = text.lower()\n",
    "    words = [word for word in text.split() if word not in stop_words]\n",
    "    return \" \".join(words)\n",
    "\n",
    "df['clean_review'] = df['review'].astype(str).apply(clean_text)"
   ]
  },
  {
   "cell_type": "code",
   "execution_count": 3,
   "id": "0aa7f793-dfaa-4f31-9800-975ded95d073",
   "metadata": {},
   "outputs": [],
   "source": [
    "# 3. Encode labels\n",
    "df['label'] = df['sentiment'].map({'positive': 1, 'negative': 0})\n",
    "\n",
    "# 4. Train/test split\n",
    "X_train, X_test, y_train, y_test = train_test_split(\n",
    "    df['clean_review'], df['label'], test_size=0.2, random_state=42\n",
    ")\n",
    "\n",
    "# 5. TF-IDF Vectorizer\n",
    "vectorizer = TfidfVectorizer(max_features=1000)\n",
    "X_train_vec = vectorizer.fit_transform(X_train)\n",
    "X_test_vec = vectorizer.transform(X_test)"
   ]
  },
  {
   "cell_type": "code",
   "execution_count": 4,
   "id": "2121e044-5085-46e2-948f-a1003ccb98a3",
   "metadata": {},
   "outputs": [
    {
     "name": "stdout",
     "output_type": "stream",
     "text": [
      "Model Accuracy: 66.67%\n",
      "\n",
      "Sample Predictions:\n",
      "Review: \"Poor script and bad editing.\"\n",
      "Prediction: POSITIVE (Actual: NEGATIVE)\n",
      "\n",
      "Review: \"This movie was terrible and slow.\"\n",
      "Prediction: NEGATIVE (Actual: NEGATIVE)\n",
      "\n",
      "Review: \"I loved this movie, it was fantastic!\"\n",
      "Prediction: POSITIVE (Actual: POSITIVE)\n",
      "\n"
     ]
    }
   ],
   "source": [
    "# 6. Train Logistic Regression model\n",
    "model = LogisticRegression(max_iter=500)\n",
    "model.fit(X_train_vec, y_train)\n",
    "\n",
    "# 7. Test the model\n",
    "y_pred = model.predict(X_test_vec)\n",
    "accuracy = accuracy_score(y_test, y_pred)\n",
    "print(f\"Model Accuracy: {accuracy*100:.2f}%\\n\")\n",
    "\n",
    "# 8. Show 5 sample predictions\n",
    "print(\"Sample Predictions:\")\n",
    "num_samples = min(5, len(X_test))\n",
    "sample_indices = np.random.choice(len(X_test), num_samples, replace=False)\n",
    "for idx in sample_indices:\n",
    "    review = X_test.iloc[idx]\n",
    "    true_label = \"POSITIVE\" if y_test.iloc[idx] == 1 else \"NEGATIVE\"\n",
    "    pred_label = \"POSITIVE\" if y_pred[idx] == 1 else \"NEGATIVE\"\n",
    "    print(f'Review: \"{df[\"review\"].iloc[X_test.index[idx]]}\"')\n",
    "    print(f\"Prediction: {pred_label} (Actual: {true_label})\\n\")"
   ]
  },
  {
   "cell_type": "code",
   "execution_count": null,
   "id": "bfe4d286-1afc-444d-9538-6c3d6d087453",
   "metadata": {},
   "outputs": [
    {
     "name": "stdout",
     "output_type": "stream",
     "text": [
      "Try custom reviews like:\n",
      "  The movie was boring and too long.\n",
      "  Amazing performance and storyline!\n",
      "\n"
     ]
    }
   ],
   "source": [
    "# 9. Input box for custom reviews\n",
    "def predict_custom_review():\n",
    "    while True:\n",
    "        custom_review = input('Enter a movie review (or type \"exit\" to quit): ')\n",
    "        if custom_review.lower() == 'exit':\n",
    "            break\n",
    "        clean_custom = clean_text(custom_review)\n",
    "        vec_custom = vectorizer.transform([clean_custom])\n",
    "        pred = model.predict(vec_custom)[0]\n",
    "        label = \"POSITIVE\" if pred == 1 else \"NEGATIVE\"\n",
    "        print(f'Prediction: {label}')\n",
    "\n",
    "if __name__ == \"__main__\":\n",
    "    print(\"Try custom reviews like:\")\n",
    "    print('  The movie was boring and too long.')\n",
    "    print('  Amazing performance and storyline!\\n')\n",
    "    predict_custom_review()"
   ]
  },
  {
   "cell_type": "code",
   "execution_count": null,
   "id": "f5e20521-2456-463d-841c-c180c22895be",
   "metadata": {},
   "outputs": [],
   "source": []
  }
 ],
 "metadata": {
  "kernelspec": {
   "display_name": "Python 3 (ipykernel)",
   "language": "python",
   "name": "python3"
  },
  "language_info": {
   "codemirror_mode": {
    "name": "ipython",
    "version": 3
   },
   "file_extension": ".py",
   "mimetype": "text/x-python",
   "name": "python",
   "nbconvert_exporter": "python",
   "pygments_lexer": "ipython3",
   "version": "3.10.14"
  }
 },
 "nbformat": 4,
 "nbformat_minor": 5
}
